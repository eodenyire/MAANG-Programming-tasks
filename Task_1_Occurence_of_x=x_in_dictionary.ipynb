{
  "nbformat": 4,
  "nbformat_minor": 0,
  "metadata": {
    "colab": {
      "provenance": [],
      "authorship_tag": "ABX9TyPMD4hg0QnPFSO/3dHOrW6f",
      "include_colab_link": true
    },
    "kernelspec": {
      "name": "python3",
      "display_name": "Python 3"
    },
    "language_info": {
      "name": "python"
    }
  },
  "cells": [
    {
      "cell_type": "markdown",
      "metadata": {
        "id": "view-in-github",
        "colab_type": "text"
      },
      "source": [
        "<a href=\"https://colab.research.google.com/github/odenyirechristopher/MAANG-Programming-tasks/blob/main/Task_1_Occurence_of_x%3Dx_in_dictionary.ipynb\" target=\"_parent\"><img src=\"https://colab.research.google.com/assets/colab-badge.svg\" alt=\"Open In Colab\"/></a>"
      ]
    },
    {
      "cell_type": "code",
      "execution_count": null,
      "metadata": {
        "id": "g4_IKbmSVsgC"
      },
      "outputs": [],
      "source": [
        "A = [3,8,2,3,3,2,4,4,4,4,5,5,5,5]\n",
        "A = [7,1,2,8,3,1]\n",
        "def solution(A):\n",
        "    dictionary = {}\n",
        " \n",
        "    for i in A:\n",
        "        if i not in dictionary:\n",
        "            # do add to dict and set count as 1\n",
        "            dictionary[i] = 1\n",
        "        else:\n",
        "            # increment its count \n",
        "            dictionary[i] +=1\n",
        "    print(dictionary)\n",
        "    max_no = 0\n",
        " \n",
        "    for k, v in dictionary.items():\n",
        "        if k == v:\n",
        "            if k > max_no:\n",
        "                max_no = k\n",
        "    \n",
        "    print(max_no)\n",
        "solution(A)"
      ]
    }
  ]
}